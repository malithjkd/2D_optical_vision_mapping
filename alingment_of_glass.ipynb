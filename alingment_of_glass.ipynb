{
 "cells": [
  {
   "cell_type": "markdown",
   "metadata": {},
   "source": [
    "# Alingment of the glass\n",
    "\n",
    "When we try to calculate X and Y positon error using glass scale we need to know the location of the glass holes or circles. So we can go to those locations and get the position error values. So we need a method to locate all the dots locations. The problem is when we place the glass scale in the stage it can be rotate along the Z axis and can be missalling with XY of the stage. \n",
    "\n",
    "Anyhow we cannot priceliy alling the XY stage axis glass XY axis so we need a way to get the actual orentation of the glass scale. I suggest we have to locatate the (0,0) point of the glass and far end point (n,n) point manualy. With the actual feedback point we can back calculate the glass dots location indivually. \n",
    "\n",
    "This notebook will discuss the process of getting the position array of dots."
   ]
  },
  {
   "cell_type": "code",
   "execution_count": 110,
   "metadata": {},
   "outputs": [],
   "source": [
    "import matplotlib.pyplot as plt\n",
    "import math\n",
    "import numpy as np\n"
   ]
  },
  {
   "cell_type": "markdown",
   "metadata": {},
   "source": [
    "We have get 0,0 point in (x_0_fb,y_0_fb) \n",
    "and 23 cycles in x direction and 23 cycles y direction up we have (location_23,location_23) in (x_23_fb,y_23_fb) \n",
    "\n",
    "Lets calculate the the distance bitween cycles/dots"
   ]
  },
  {
   "cell_type": "code",
   "execution_count": 121,
   "metadata": {},
   "outputs": [],
   "source": [
    "#step_x = 0.3798\n",
    "#step_y = 0.421\n",
    "steps = 23\n",
    "\n",
    "\n",
    "# Position feedback of (0,0) point\n",
    "x_0_fb  = -1.9903\n",
    "y_0_fb  = 83.57\n",
    "\n",
    "# position feedback of (n,n) point\n",
    "x_23_fb = -10.704\n",
    "y_23_fb = 93.2589\n",
    "\n",
    "x_023_fb = -11.1916\n",
    "y_023_fb = 84.0576\n",
    "\n",
    "x_2323_fb = -1.5027\n",
    "y_2323_fb = 92.7713\n"
   ]
  },
  {
   "cell_type": "code",
   "execution_count": 108,
   "metadata": {},
   "outputs": [
    {
     "data": {
      "image/png": "[encoded data removed]",
      "text/plain": [
       "<Figure size 640x480 with 1 Axes>"
      ]
     },
     "metadata": {},
     "output_type": "display_data"
    }
   ],
   "source": [
    "# visualise the locaiton \n",
    "\n",
    "plt.scatter(x_0_fb,y_0_fb,marker=\".\")\n",
    "plt.scatter(x_23_fb,y_23_fb,marker=\".\")\n",
    "plt.scatter(x_023_fb,y_023_fb,marker=\".\")\n",
    "plt.scatter(x_2323_fb , y_2323_fb,marker=\".\")\n",
    "\n",
    "plt.show()"
   ]
  },
  {
   "cell_type": "markdown",
   "metadata": {},
   "source": [
    "lets consider distance bitween dots is 'step-distance'\n",
    "in we have 23 steps from (0,0) dot to (23,23) dot \n",
    "\n",
    "$\\sqrt{(x_{23fb} - x_{0fb})^2 + (y_{23fb} - y_{0fb})^2 } = \\sqrt{(23 \\times step-distance)^2 + (23 \\times step-distance)^2 } $\n",
    "$  = \\sqrt(2) \\times 23 \\times step-distance $\n",
    "\n",
    "By solving this we can calculate the step distance as bellow\n",
    "\n",
    "$ step-distance = {{ \\sqrt{(x_{23fb} - x_{0fb})^2 + (y_{23fb} - y_{0fb})^2 } } \\over {\\sqrt(2) \\times 23} }$"
   ]
  },
  {
   "cell_type": "code",
   "execution_count": 8,
   "metadata": {},
   "outputs": [
    {
     "name": "stdout",
     "output_type": "stream",
     "text": [
      "step-distance =  0.4006178485614582\n"
     ]
    }
   ],
   "source": [
    "# use pythergerus rule to calculate distance \n",
    "# \n",
    "# math.sqrt((23x)*(23x)+(23x)*(23x)) = math.sqrt(2)*23x \n",
    "\n",
    "step_distance = math.sqrt((x_23_fb - x_0_fb)*(x_23_fb - x_0_fb) + (y_23_fb - y_0_fb)*(y_23_fb - y_0_fb)) / (math.sqrt(2)*23)\n",
    "\n",
    "print(\"step-distance = \", step_distance)"
   ]
  },
  {
   "cell_type": "markdown",
   "metadata": {},
   "source": [
    "## Angle bitween two coodinate frames\n",
    "\n",
    "angle 135 is calculated based on the our current setup\n",
    "\n",
    "\n",
    "$ tan(135 -\\theta) = { {y_{23fb} - y_{0fb}} \\over {{x_{23fb} - x_{0fb}}} } $\n",
    "\n"
   ]
  },
  {
   "cell_type": "code",
   "execution_count": 98,
   "metadata": {},
   "outputs": [
    {
     "name": "stdout",
     "output_type": "stream",
     "text": [
      "angle theta =  183.0334099221834\n"
     ]
    }
   ],
   "source": [
    "theta = 135 - math.degrees(math.atan((y_23_fb - y_0_fb)/(x_23_fb - x_0_fb)))\n",
    "theta_rad = 3*math.pi/4 - math.atan((y_23_fb - y_0_fb)/(x_23_fb - x_0_fb))\n",
    "print (\"angle theta = \",theta)"
   ]
  },
  {
   "cell_type": "markdown",
   "metadata": {},
   "source": [
    "## 0,23 point calculation"
   ]
  },
  {
   "cell_type": "code",
   "execution_count": 99,
   "metadata": {},
   "outputs": [
    {
     "name": "stdout",
     "output_type": "stream",
     "text": [
      "-11.191600000000003 84.0576\n"
     ]
    }
   ],
   "source": [
    "print(23*step_distance*math.cos(theta_rad)+x_0_fb, -23*step_distance*math.sin(theta_rad)+y_0_fb)"
   ]
  },
  {
   "cell_type": "markdown",
   "metadata": {},
   "source": [
    "# 23,0 point calculation"
   ]
  },
  {
   "cell_type": "code",
   "execution_count": 105,
   "metadata": {},
   "outputs": [
    {
     "name": "stdout",
     "output_type": "stream",
     "text": [
      "-1.5026999999999973 92.7713\n"
     ]
    }
   ],
   "source": [
    "print(-23*step_distance*math.cos(theta_rad)+x_23_fb, 23*step_distance*math.sin(theta_rad)+y_23_fb)"
   ]
  },
  {
   "cell_type": "markdown",
   "metadata": {},
   "source": [
    "## Create a location matrix to store the dot position"
   ]
  },
  {
   "cell_type": "code",
   "execution_count": 152,
   "metadata": {},
   "outputs": [],
   "source": [
    "# rows contanin no of dots in x direction\n",
    "# column contain number of dots in Y direction \n",
    "\n",
    "rows = 23\n",
    "column = 23\n",
    "\n",
    "location = np.zeros((2,rows+1,column))\n",
    "#A\n",
    "location[0,0,0] = -1.9903\n",
    "location[1,0,0] = 83.57\n",
    "#B\n",
    "location[0,0,23] = -11.1916\n",
    "location[1,0,23] = 84.0576\n",
    "#D\n",
    "location[0,23,0] = -1.5027\n",
    "location[1,23,0] = 92.7713\n",
    "#C\n",
    "location[0,23,23] =-10.704\n",
    "location[1,23,23] =93.2589\n",
    "\n"
   ]
  },
  {
   "cell_type": "code",
   "execution_count": 156,
   "metadata": {},
   "outputs": [
    {
     "name": "stdout",
     "output_type": "stream",
     "text": [
      "0.0212 0.4000565217391306\n"
     ]
    }
   ],
   "source": [
    "hight_x = (location[0,23,0] - location[0,0,0])/23 \n",
    "hight_y = (location[1,23,0] - location[1,0,0])/23 \n",
    "step_x = (location[0,0,23] - location[0,0,0])/23\n",
    "step_y = (location[1,0,23] - location[1,0,0])/23\n",
    "\n",
    "for rows in range (0,24,1):\n",
    "    for column in range (0,24,1):\n",
    "        location[0,rows,column] = location[0,0,0] + step_x*column  + hight_x*rows       # X axis\n",
    "        location[1,rows,column] = location[1,0,0] + step_y*column  + hight_y*rows       # Y axis\n",
    "\n"
   ]
  },
  {
   "cell_type": "code",
   "execution_count": 157,
   "metadata": {},
   "outputs": [
    {
     "data": {
      "image/png": "[encoded data removed]",
      "text/plain": [
       "<Figure size 600x600 with 1 Axes>"
      ]
     },
     "metadata": {},
     "output_type": "display_data"
    }
   ],
   "source": [
    "# plot the locations\n",
    "plt.figure(figsize=(6,6))\n",
    "plt.scatter(location[0,:,:], location[1,:,:],marker=\".\")\n",
    "# Set the aspect of the plot to be equal, ensuring equal physical spacing\n",
    "plt.gca().set_aspect('equal', adjustable='box')\n",
    "plt.show()"
   ]
  },
  {
   "cell_type": "code",
   "execution_count": 163,
   "metadata": {},
   "outputs": [
    {
     "ename": "SyntaxError",
     "evalue": "invalid syntax (492588396.py, line 5)",
     "output_type": "error",
     "traceback": [
      "\u001b[0;36m  Cell \u001b[0;32mIn[163], line 5\u001b[0;36m\u001b[0m\n\u001b[0;31m    print(\"location[\",axis,\",\",rows,\",\",column,\"]=[%.2f\",%location[axis,rows,column],\"]\")\u001b[0m\n\u001b[0m                                                         ^\u001b[0m\n\u001b[0;31mSyntaxError\u001b[0m\u001b[0;31m:\u001b[0m invalid syntax\n"
     ]
    }
   ],
   "source": [
    "# print to file\n",
    "\n",
    "#np.savetxt('data.txt', location)\n",
    "for axis in range (0,2,1):\n",
    "    print(\"location[\",axis,\",\",rows,\",\",column,\"]=[%.2f\" %location[axis,rows,column],\"]\")"
   ]
  },
  {
   "cell_type": "markdown",
   "metadata": {},
   "source": [
    "## Second method without angle\n",
    "\n",
    "Lets take step distance as 0.4 mm\n",
    "\n",
    "Now we need to find the follwing (0,23) location and (23,0) location\n",
    "\n",
    "Lets create line bitween x_0_fb,y_0_fb and x_23_fb,y_23_fb. Then create right angeld line at the center of the previous line for that then drow a cercle crossing all x_0_fb,y_0_fb and x_23_fb,y_23_fb. The crossing point of the right angled line with the circle is the (0,23) location and (23,0) location. \n"
   ]
  },
  {
   "cell_type": "code",
   "execution_count": 87,
   "metadata": {},
   "outputs": [],
   "source": [
    "#X_val = [x_0_fb,x_23_fb ]\n",
    "#Y_val = [y_0_fb,y_23_fb] \n",
    "#\n",
    "#plt.plot(X_val,Y_val,marker=\".\")\n",
    "#plt.show()\n",
    "\n",
    "#M = (y_23_fb - y_0_fb)/(x_23_fb - x_0_fb )\n",
    "##print (M)\n",
    "#C = y_0_fb - M*x_0_fb\n",
    "##print (C)\n",
    "#print (\"Y = \",M,\"X +\",C)\n",
    "#\n",
    "#\n",
    "## creating perpendiculer line going in the center of the mesured loation \n",
    "#\n",
    "#mid_point = [(x_23_fb + x_0_fb)/2 , (y_23_fb + y_0_fb)/2]\n",
    "#print(mid_point[0],mid_point[1])\n",
    "#\n",
    "#M2 = -1/M\n",
    "#C2 =mid_point[1] - M2*mid_point[0]\n",
    "#print(\"Y =\",M2,\"X + \", C2)\n",
    "#"
   ]
  },
  {
   "cell_type": "code",
   "execution_count": null,
   "metadata": {},
   "outputs": [],
   "source": []
  }
 ],
 "metadata": {
  "kernelspec": {
   "display_name": "py11",
   "language": "python",
   "name": "python3"
  },
  "language_info": {
   "codemirror_mode": {
    "name": "ipython",
    "version": 3
   },
   "file_extension": ".py",
   "mimetype": "text/x-python",
   "name": "python",
   "nbconvert_exporter": "python",
   "pygments_lexer": "ipython3",
   "version": "3.11.5"
  }
 },
 "nbformat": 4,
 "nbformat_minor": 2
}
